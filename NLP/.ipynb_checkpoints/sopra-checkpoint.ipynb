{
 "cells": [
  {
   "cell_type": "code",
   "execution_count": 1,
   "metadata": {
    "collapsed": true
   },
   "outputs": [],
   "source": [
    "import os\n",
    "from sklearn import preprocessing\n",
    "import sys\n",
    "import numpy as np\n",
    "import pandas as pd\n",
    "import pickle\n",
    "import nltk"
   ]
  },
  {
   "cell_type": "code",
   "execution_count": 2,
   "metadata": {
    "collapsed": true
   },
   "outputs": [],
   "source": [
    "df = pd.read_csv(r'D:\\sopra_internship\\report.csv')"
   ]
  },
  {
   "cell_type": "code",
   "execution_count": 3,
   "metadata": {},
   "outputs": [
    {
     "data": {
      "text/html": [
       "<div>\n",
       "<style>\n",
       "    .dataframe thead tr:only-child th {\n",
       "        text-align: right;\n",
       "    }\n",
       "\n",
       "    .dataframe thead th {\n",
       "        text-align: left;\n",
       "    }\n",
       "\n",
       "    .dataframe tbody tr th {\n",
       "        vertical-align: top;\n",
       "    }\n",
       "</style>\n",
       "<table border=\"1\" class=\"dataframe\">\n",
       "  <thead>\n",
       "    <tr style=\"text-align: right;\">\n",
       "      <th></th>\n",
       "      <th>Assignee</th>\n",
       "      <th>text</th>\n",
       "    </tr>\n",
       "  </thead>\n",
       "  <tbody>\n",
       "    <tr>\n",
       "      <th>0</th>\n",
       "      <td>Platform UI Triaged</td>\n",
       "      <td>DG writes:  Here is another thing that will ...</td>\n",
       "    </tr>\n",
       "    <tr>\n",
       "      <th>1</th>\n",
       "      <td>Platform-Text-Inbox</td>\n",
       "      <td>It would be more efficient if SEF did not cr...</td>\n",
       "    </tr>\n",
       "    <tr>\n",
       "      <th>2</th>\n",
       "      <td>Platform UI Triaged</td>\n",
       "      <td>DW (8/15/01 12:24:09 PM)  We would like API ...</td>\n",
       "    </tr>\n",
       "    <tr>\n",
       "      <th>3</th>\n",
       "      <td>Platform UI Triaged</td>\n",
       "      <td>- open the  NOT REQUIREDv view  - click on t...</td>\n",
       "    </tr>\n",
       "    <tr>\n",
       "      <th>4</th>\n",
       "      <td>JDT-UI-Inbox</td>\n",
       "      <td>- Create two project P1 and P2  - Open the pr...</td>\n",
       "    </tr>\n",
       "  </tbody>\n",
       "</table>\n",
       "</div>"
      ],
      "text/plain": [
       "              Assignee                                               text\n",
       "0  Platform UI Triaged    DG writes:  Here is another thing that will ...\n",
       "1  Platform-Text-Inbox    It would be more efficient if SEF did not cr...\n",
       "2  Platform UI Triaged    DW (8/15/01 12:24:09 PM)  We would like API ...\n",
       "3  Platform UI Triaged    - open the  NOT REQUIREDv view  - click on t...\n",
       "4         JDT-UI-Inbox   - Create two project P1 and P2  - Open the pr..."
      ]
     },
     "execution_count": 3,
     "metadata": {},
     "output_type": "execute_result"
    }
   ],
   "source": [
    "df.head()"
   ]
  },
  {
   "cell_type": "code",
   "execution_count": 4,
   "metadata": {},
   "outputs": [
    {
     "name": "stdout",
     "output_type": "stream",
     "text": [
      "<class 'pandas.core.frame.DataFrame'>\n",
      "RangeIndex: 3998 entries, 0 to 3997\n",
      "Data columns (total 2 columns):\n",
      "Assignee    3998 non-null object\n",
      "text        3998 non-null object\n",
      "dtypes: object(2)\n",
      "memory usage: 62.5+ KB\n"
     ]
    }
   ],
   "source": [
    "df.info()"
   ]
  },
  {
   "cell_type": "code",
   "execution_count": 5,
   "metadata": {},
   "outputs": [
    {
     "data": {
      "text/plain": [
       "JDT-Text-Inbox                    526\n",
       "Platform UI Triaged               453\n",
       "Platform-Text-Inbox               355\n",
       "JDT-UI-Inbox                      322\n",
       "platform-cvs-inbox                215\n",
       "Platform-Compare-Inbox            100\n",
       "Platform-Resources-Inbox           99\n",
       "JDT-Core-Inbox                     94\n",
       "Platform-UI-Inbox                  88\n",
       "Silenio Quarti                     87\n",
       "Steve Northover                    83\n",
       "Project Inbox                      82\n",
       "Markus Keller                      82\n",
       "Platform Team Inbox                62\n",
       "Felipe Heidrich                    57\n",
       "JDT-Debug-Inbox                    52\n",
       "Platform-VCM-Inbox                 50\n",
       "Veronika Irvine                    48\n",
       "Tod Creasey                        45\n",
       "Grant Gayed                        43\n",
       "Platform-Debug-Inbox               38\n",
       "Platform-Ant-Inbox                 38\n",
       "pde-build-inbox                    36\n",
       "cdt-build-inbox@eclipse.org        35\n",
       "Martin Aeschlimann                 32\n",
       "platform-runtime-inbox             30\n",
       "Platform-Update-Inbox              29\n",
       "PDE-UI-Inbox                       28\n",
       "Christophe Cornu                   26\n",
       "Boris Bokowski                     26\n",
       "                                 ... \n",
       "Linda Watson                        1\n",
       "Lorne Parsons                       1\n",
       "Branko Tripkovic                    1\n",
       "Guillermo Hurtado                   1\n",
       "Rajesh                              1\n",
       "Silvio B򨬥r                          1\n",
       "Gary Xue                            1\n",
       "Raksha Vasisht                      1\n",
       "Jeremie Bresson                     1\n",
       "User Unknown - please reassign      1\n",
       "wst.sse                             1\n",
       "Gun NOT REQUIREDr Wagenknecht       1\n",
       "cdt-launch-inbox@eclipse.org        1\n",
       "Mickael Istria                      1\n",
       "PDE-Doc-Inbox                       1\n",
       "UML2 Inbox                          1\n",
       "gef-inbox                           1\n",
       "Jerome Cambon                       1\n",
       "George Cheng                        1\n",
       "Lakshmi Shanmugam                   1\n",
       "Phil Loats                          1\n",
       "Noopur Gupta                        1\n",
       "Mike Pawlowski                      1\n",
       "Freddy Allilaire                    1\n",
       "Szymon Ptaszkiewicz                 1\n",
       "David Daoust                        1\n",
       "Markus Barchfeld                    1\n",
       "Niraj Modi                          1\n",
       "Gili Mendel                         1\n",
       "Manju Mathew                        1\n",
       "Name: Assignee, Length: 223, dtype: int64"
      ]
     },
     "execution_count": 5,
     "metadata": {},
     "output_type": "execute_result"
    }
   ],
   "source": [
    "df['Assignee'].value_counts()"
   ]
  },
  {
   "cell_type": "code",
   "execution_count": 6,
   "metadata": {},
   "outputs": [
    {
     "data": {
      "text/plain": [
       "LabelEncoder()"
      ]
     },
     "execution_count": 6,
     "metadata": {},
     "output_type": "execute_result"
    }
   ],
   "source": [
    "le = preprocessing.LabelEncoder()\n",
    "le.fit(df['Assignee'])"
   ]
  },
  {
   "cell_type": "code",
   "execution_count": 7,
   "metadata": {},
   "outputs": [
    {
     "data": {
      "text/plain": [
       "0                 Platform UI Triaged\n",
       "1                 Platform-Text-Inbox\n",
       "2                 Platform UI Triaged\n",
       "3                 Platform UI Triaged\n",
       "4                        JDT-UI-Inbox\n",
       "5                 Platform UI Triaged\n",
       "6                 Platform UI Triaged\n",
       "7                      JDT-Text-Inbox\n",
       "8                      JDT-Text-Inbox\n",
       "9                      JDT-Text-Inbox\n",
       "10                Platform UI Triaged\n",
       "11                     JDT-Text-Inbox\n",
       "12                Platform UI Triaged\n",
       "13                    JDT-Debug-Inbox\n",
       "14                Platform UI Triaged\n",
       "15                     JDT-Text-Inbox\n",
       "16                Platform UI Triaged\n",
       "17                       JDT-UI-Inbox\n",
       "18                Platform UI Triaged\n",
       "19                       JDT-UI-Inbox\n",
       "20                     Fabio Zadrozny\n",
       "21                     JDT-Text-Inbox\n",
       "22             Platform-Compare-Inbox\n",
       "23                     JDT-Text-Inbox\n",
       "24                       JDT-UI-Inbox\n",
       "25                Platform UI Triaged\n",
       "26                       JDT-UI-Inbox\n",
       "27                Platform UI Triaged\n",
       "28                Platform UI Triaged\n",
       "29                     JDT-Core-Inbox\n",
       "                    ...              \n",
       "3968                      Grant Gayed\n",
       "3969                Eclipse Webmaster\n",
       "3970             Platform-Debug-Inbox\n",
       "3971                     Stefan Xenos\n",
       "3972              Mikhail Khodjaiants\n",
       "3973                     PDE-UI-Inbox\n",
       "3974         Andre Wei NOT REQUIREDnd\n",
       "3975                  JDT-Debug-Inbox\n",
       "3976                Platform-UI-Inbox\n",
       "3977              Mikhail Khodjaiants\n",
       "3978                   Curtis Windatt\n",
       "3979                   Boris Bokowski\n",
       "3980                   JDT-Core-Inbox\n",
       "3981    cdt-cppunit-inbox@eclipse.org\n",
       "3982            Platform-Update-Inbox\n",
       "3983                  Steve Northover\n",
       "3984                        Kim Horne\n",
       "3985                  JDT-Debug-Inbox\n",
       "3986                   Silenio Quarti\n",
       "3987                       phoenix.ui\n",
       "3988            Platform-Update-Inbox\n",
       "3989                   JDT-Core-Inbox\n",
       "3990                   Silenio Quarti\n",
       "3991                     David Inglis\n",
       "3992                       phoenix.ui\n",
       "3993             Platform-Debug-Inbox\n",
       "3994                   Silenio Quarti\n",
       "3995          Tomasz Zar NOT REQUIRED\n",
       "3996                  pde-build-inbox\n",
       "3997           platform-runtime-inbox\n",
       "Name: Assignee, Length: 3998, dtype: object"
      ]
     },
     "execution_count": 7,
     "metadata": {},
     "output_type": "execute_result"
    }
   ],
   "source": [
    "df['Assignee']"
   ]
  },
  {
   "cell_type": "code",
   "execution_count": 8,
   "metadata": {},
   "outputs": [
    {
     "data": {
      "text/plain": [
       "False"
      ]
     },
     "execution_count": 8,
     "metadata": {},
     "output_type": "execute_result"
    }
   ],
   "source": [
    "df['text'].isnull().values.any()"
   ]
  },
  {
   "cell_type": "code",
   "execution_count": 9,
   "metadata": {
    "collapsed": true
   },
   "outputs": [],
   "source": [
    "raw_text = df['text']"
   ]
  },
  {
   "cell_type": "code",
   "execution_count": 10,
   "metadata": {
    "collapsed": true
   },
   "outputs": [],
   "source": [
    "#removing alphanumeric character, decimal digit, whitespace character\n",
    "processed = raw_text.str.replace(r'[^\\w\\d\\s]', ' ')\n",
    "processed = raw_text.str.replace(r'\\s+', ' ')\n",
    "processed = raw_text.str.replace(r'^\\s+|\\s+?$', '')"
   ]
  },
  {
   "cell_type": "code",
   "execution_count": 11,
   "metadata": {
    "collapsed": true
   },
   "outputs": [],
   "source": [
    "#converting all to lower case\n",
    "processed = processed.str.lower()"
   ]
  },
  {
   "cell_type": "code",
   "execution_count": 12,
   "metadata": {
    "collapsed": true
   },
   "outputs": [],
   "source": [
    "#stop words\n",
    "stop_words = nltk.corpus.stopwords.words('english')"
   ]
  },
  {
   "cell_type": "code",
   "execution_count": 13,
   "metadata": {},
   "outputs": [
    {
     "data": {
      "text/plain": [
       "['i',\n",
       " 'me',\n",
       " 'my',\n",
       " 'myself',\n",
       " 'we',\n",
       " 'our',\n",
       " 'ours',\n",
       " 'ourselves',\n",
       " 'you',\n",
       " \"you're\",\n",
       " \"you've\",\n",
       " \"you'll\",\n",
       " \"you'd\",\n",
       " 'your',\n",
       " 'yours',\n",
       " 'yourself',\n",
       " 'yourselves',\n",
       " 'he',\n",
       " 'him',\n",
       " 'his',\n",
       " 'himself',\n",
       " 'she',\n",
       " \"she's\",\n",
       " 'her',\n",
       " 'hers',\n",
       " 'herself',\n",
       " 'it',\n",
       " \"it's\",\n",
       " 'its',\n",
       " 'itself',\n",
       " 'they',\n",
       " 'them',\n",
       " 'their',\n",
       " 'theirs',\n",
       " 'themselves',\n",
       " 'what',\n",
       " 'which',\n",
       " 'who',\n",
       " 'whom',\n",
       " 'this',\n",
       " 'that',\n",
       " \"that'll\",\n",
       " 'these',\n",
       " 'those',\n",
       " 'am',\n",
       " 'is',\n",
       " 'are',\n",
       " 'was',\n",
       " 'were',\n",
       " 'be',\n",
       " 'been',\n",
       " 'being',\n",
       " 'have',\n",
       " 'has',\n",
       " 'had',\n",
       " 'having',\n",
       " 'do',\n",
       " 'does',\n",
       " 'did',\n",
       " 'doing',\n",
       " 'a',\n",
       " 'an',\n",
       " 'the',\n",
       " 'and',\n",
       " 'but',\n",
       " 'if',\n",
       " 'or',\n",
       " 'because',\n",
       " 'as',\n",
       " 'until',\n",
       " 'while',\n",
       " 'of',\n",
       " 'at',\n",
       " 'by',\n",
       " 'for',\n",
       " 'with',\n",
       " 'about',\n",
       " 'against',\n",
       " 'between',\n",
       " 'into',\n",
       " 'through',\n",
       " 'during',\n",
       " 'before',\n",
       " 'after',\n",
       " 'above',\n",
       " 'below',\n",
       " 'to',\n",
       " 'from',\n",
       " 'up',\n",
       " 'down',\n",
       " 'in',\n",
       " 'out',\n",
       " 'on',\n",
       " 'off',\n",
       " 'over',\n",
       " 'under',\n",
       " 'again',\n",
       " 'further',\n",
       " 'then',\n",
       " 'once',\n",
       " 'here',\n",
       " 'there',\n",
       " 'when',\n",
       " 'where',\n",
       " 'why',\n",
       " 'how',\n",
       " 'all',\n",
       " 'any',\n",
       " 'both',\n",
       " 'each',\n",
       " 'few',\n",
       " 'more',\n",
       " 'most',\n",
       " 'other',\n",
       " 'some',\n",
       " 'such',\n",
       " 'no',\n",
       " 'nor',\n",
       " 'not',\n",
       " 'only',\n",
       " 'own',\n",
       " 'same',\n",
       " 'so',\n",
       " 'than',\n",
       " 'too',\n",
       " 'very',\n",
       " 's',\n",
       " 't',\n",
       " 'can',\n",
       " 'will',\n",
       " 'just',\n",
       " 'don',\n",
       " \"don't\",\n",
       " 'should',\n",
       " \"should've\",\n",
       " 'now',\n",
       " 'd',\n",
       " 'll',\n",
       " 'm',\n",
       " 'o',\n",
       " 're',\n",
       " 've',\n",
       " 'y',\n",
       " 'ain',\n",
       " 'aren',\n",
       " \"aren't\",\n",
       " 'couldn',\n",
       " \"couldn't\",\n",
       " 'didn',\n",
       " \"didn't\",\n",
       " 'doesn',\n",
       " \"doesn't\",\n",
       " 'hadn',\n",
       " \"hadn't\",\n",
       " 'hasn',\n",
       " \"hasn't\",\n",
       " 'haven',\n",
       " \"haven't\",\n",
       " 'isn',\n",
       " \"isn't\",\n",
       " 'ma',\n",
       " 'mightn',\n",
       " \"mightn't\",\n",
       " 'mustn',\n",
       " \"mustn't\",\n",
       " 'needn',\n",
       " \"needn't\",\n",
       " 'shan',\n",
       " \"shan't\",\n",
       " 'shouldn',\n",
       " \"shouldn't\",\n",
       " 'wasn',\n",
       " \"wasn't\",\n",
       " 'weren',\n",
       " \"weren't\",\n",
       " 'won',\n",
       " \"won't\",\n",
       " 'wouldn',\n",
       " \"wouldn't\"]"
      ]
     },
     "execution_count": 13,
     "metadata": {},
     "output_type": "execute_result"
    }
   ],
   "source": [
    "stop_words"
   ]
  },
  {
   "cell_type": "code",
   "execution_count": 14,
   "metadata": {
    "collapsed": true
   },
   "outputs": [],
   "source": [
    "processed = processed.apply(lambda x: ' '.join(\n",
    "    term for term in x.split() if term not in set(stop_words)))"
   ]
  },
  {
   "cell_type": "code",
   "execution_count": 15,
   "metadata": {
    "collapsed": true
   },
   "outputs": [],
   "source": [
    "#stemming using PorterStemmer from NLTK\n",
    "porter = nltk.PorterStemmer()\n",
    "processed = processed.apply(lambda x: ' '.join(porter.stem(term) for term in x.split()))"
   ]
  },
  {
   "cell_type": "markdown",
   "metadata": {},
   "source": [
    "Tokenization is a process of breaking apart the corpus into a vocabulary of unique terms. It has various approaches:\n",
    "   1) We can tokenize individual terms and generate what's called a bag of words model. You may notice this model has a glaring pitfall: it fails to capture the innate structure of human language. Under this model, the following sentences have the same feature vector although they convey dramatically different meanings.\n",
    "eg:Does steak taste delicious?\n",
    "   Steak does taste delicious.\n",
    "   2) we can tokenize every sequence of n terms called n-grams. For example, tokenizing adjacent pairs of words yields bigrams. The n-gram model preserves word order and can potentially capture more information than the bag of words model.\n",
    "eg: unigrams and bigrams for \"The quick brown fox\" are \"The\", \"quick\", \"brown\", \"fox\", \"The quick\", \"quick brown\" and \"brown fox\"."
   ]
  },
  {
   "cell_type": "markdown",
   "metadata": {},
   "source": [
    "One statistic called term frequency (tf) tallies the occurrences of each n-gram for every training example. However, some n-grams will show up often while others rarely appear in the overall corpus but show up frequently in certain subsets of messages. Therefore, to emphasize the latter, we'll downweight the term frequency with inverse document frequency (idf), which is calculated by logarithmically scaling the inverse of the fraction of training examples that contain a given term. Combining these two statistics yields the tf-idf statistic:\n",
    "\n",
    "tf-idf(t,i)=tf(t,i)×idf(t)=tf(t,i)×log(Mmt)\n",
    "where tf(t,i) is the term frequency for term t in the ith training example, M is the total number of training examples, and mt is the number of training examples that contain the term t."
   ]
  },
  {
   "cell_type": "code",
   "execution_count": 18,
   "metadata": {},
   "outputs": [
    {
     "name": "stderr",
     "output_type": "stream",
     "text": [
      "C:\\Users\\sanchitagujral98\\Anaconda3\\lib\\site-packages\\sklearn\\feature_extraction\\text.py:1059: FutureWarning: Conversion of the second argument of issubdtype from `float` to `np.floating` is deprecated. In future, it will be treated as `np.float64 == np.dtype(float).type`.\n",
      "  if hasattr(X, 'dtype') and np.issubdtype(X.dtype, np.float):\n"
     ]
    }
   ],
   "source": [
    "#tokenization\n",
    "from sklearn.feature_extraction.text import TfidfVectorizer\n",
    "vectorizer = TfidfVectorizer(ngram_range=(1, 2))\n",
    "X_ngrams = vectorizer.fit_transform(processed)"
   ]
  },
  {
   "cell_type": "code",
   "execution_count": 19,
   "metadata": {},
   "outputs": [
    {
     "data": {
      "text/plain": [
       "(3998, 175322)"
      ]
     },
     "execution_count": 19,
     "metadata": {},
     "output_type": "execute_result"
    }
   ],
   "source": [
    "X_ngrams.shape"
   ]
  },
  {
   "cell_type": "code",
   "execution_count": null,
   "metadata": {
    "collapsed": true
   },
   "outputs": [],
   "source": [
    "#splitting into training and test set\n",
    "X_train, X_test, y_train, y_test = train_test_split(X_ngrams, y_enc, test_size=0.2, random_state=42, stratify=y_enc)\n",
    "clf = svm.LinearSVC(loss='hinge')\n",
    "clf.fit(X_train, y_train)\n",
    "y_pred = clf.predict(X_test)\n",
    "metrics.f1_score(y_test, y_pred)"
   ]
  }
 ],
 "metadata": {
  "kernelspec": {
   "display_name": "Python 3",
   "language": "python",
   "name": "python3"
  },
  "language_info": {
   "codemirror_mode": {
    "name": "ipython",
    "version": 3
   },
   "file_extension": ".py",
   "mimetype": "text/x-python",
   "name": "python",
   "nbconvert_exporter": "python",
   "pygments_lexer": "ipython3",
   "version": "3.6.5"
  }
 },
 "nbformat": 4,
 "nbformat_minor": 2
}
