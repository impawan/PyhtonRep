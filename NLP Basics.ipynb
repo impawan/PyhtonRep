{
 "cells": [
  {
   "cell_type": "markdown",
   "metadata": {},
   "source": [
    "Word Tokenization"
   ]
  },
  {
   "cell_type": "code",
   "execution_count": 1,
   "metadata": {},
   "outputs": [],
   "source": [
    "from nltk.tokenize import word_tokenize"
   ]
  },
  {
   "cell_type": "code",
   "execution_count": 2,
   "metadata": {},
   "outputs": [],
   "source": [
    "sample_text = 'This is sample text, how word tokenize works.'"
   ]
  },
  {
   "cell_type": "code",
   "execution_count": 3,
   "metadata": {},
   "outputs": [],
   "source": [
    "word_token = word_tokenize(sample_text)"
   ]
  },
  {
   "cell_type": "code",
   "execution_count": 4,
   "metadata": {},
   "outputs": [
    {
     "data": {
      "text/plain": [
       "list"
      ]
     },
     "execution_count": 4,
     "metadata": {},
     "output_type": "execute_result"
    }
   ],
   "source": [
    "type(word_token)"
   ]
  },
  {
   "cell_type": "code",
   "execution_count": 5,
   "metadata": {},
   "outputs": [
    {
     "name": "stdout",
     "output_type": "stream",
     "text": [
      "['This', 'is', 'sample', 'text', ',', 'how', 'word', 'tokenize', 'works', '.']\n"
     ]
    }
   ],
   "source": [
    "print(word_token)"
   ]
  },
  {
   "cell_type": "markdown",
   "metadata": {},
   "source": [
    "Sentences Tokenization"
   ]
  },
  {
   "cell_type": "code",
   "execution_count": 6,
   "metadata": {},
   "outputs": [],
   "source": [
    "from nltk.tokenize import sent_tokenize"
   ]
  },
  {
   "cell_type": "code",
   "execution_count": 13,
   "metadata": {},
   "outputs": [],
   "source": [
    "sample_text1 = 'This is sample text. how sent tokenize works.'"
   ]
  },
  {
   "cell_type": "code",
   "execution_count": 14,
   "metadata": {},
   "outputs": [],
   "source": [
    "sent_token = sent_tokenize(sample_text1)"
   ]
  },
  {
   "cell_type": "code",
   "execution_count": 15,
   "metadata": {},
   "outputs": [
    {
     "name": "stdout",
     "output_type": "stream",
     "text": [
      "['This is sample text.', 'how sent tokenize works.']\n"
     ]
    }
   ],
   "source": [
    "print(sent_token)"
   ]
  },
  {
   "cell_type": "markdown",
   "metadata": {},
   "source": [
    "POS tagging "
   ]
  },
  {
   "cell_type": "code",
   "execution_count": 16,
   "metadata": {},
   "outputs": [],
   "source": [
    "from nltk import pos_tag"
   ]
  },
  {
   "cell_type": "code",
   "execution_count": 17,
   "metadata": {},
   "outputs": [],
   "source": [
    "sample_sent = \"The angry king ordered his guards to put his minister in prison. The minister had argued with the king on some law and order issue. One day, the emperor made a visit to the prison\""
   ]
  },
  {
   "cell_type": "code",
   "execution_count": 18,
   "metadata": {},
   "outputs": [],
   "source": [
    "word_tokens = word_tokenize(sample_sent)"
   ]
  },
  {
   "cell_type": "code",
   "execution_count": 19,
   "metadata": {},
   "outputs": [
    {
     "data": {
      "text/plain": [
       "['The',\n",
       " 'angry',\n",
       " 'king',\n",
       " 'ordered',\n",
       " 'his',\n",
       " 'guards',\n",
       " 'to',\n",
       " 'put',\n",
       " 'his',\n",
       " 'minister',\n",
       " 'in',\n",
       " 'prison',\n",
       " '.',\n",
       " 'The',\n",
       " 'minister',\n",
       " 'had',\n",
       " 'argued',\n",
       " 'with',\n",
       " 'the',\n",
       " 'king',\n",
       " 'on',\n",
       " 'some',\n",
       " 'law',\n",
       " 'and',\n",
       " 'order',\n",
       " 'issue',\n",
       " '.',\n",
       " 'One',\n",
       " 'day',\n",
       " ',',\n",
       " 'the',\n",
       " 'emperor',\n",
       " 'made',\n",
       " 'a',\n",
       " 'visit',\n",
       " 'to',\n",
       " 'the',\n",
       " 'prison']"
      ]
     },
     "execution_count": 19,
     "metadata": {},
     "output_type": "execute_result"
    }
   ],
   "source": [
    "word_tokens"
   ]
  },
  {
   "cell_type": "code",
   "execution_count": 20,
   "metadata": {},
   "outputs": [],
   "source": [
    "token_tags = pos_tag(word_tokens)"
   ]
  },
  {
   "cell_type": "code",
   "execution_count": 21,
   "metadata": {},
   "outputs": [
    {
     "name": "stdout",
     "output_type": "stream",
     "text": [
      "[('The', 'DT'), ('angry', 'JJ'), ('king', 'NN'), ('ordered', 'VBD'), ('his', 'PRP$'), ('guards', 'NNS'), ('to', 'TO'), ('put', 'VB'), ('his', 'PRP$'), ('minister', 'NN'), ('in', 'IN'), ('prison', 'NN'), ('.', '.'), ('The', 'DT'), ('minister', 'NN'), ('had', 'VBD'), ('argued', 'VBN'), ('with', 'IN'), ('the', 'DT'), ('king', 'NN'), ('on', 'IN'), ('some', 'DT'), ('law', 'NN'), ('and', 'CC'), ('order', 'NN'), ('issue', 'NN'), ('.', '.'), ('One', 'CD'), ('day', 'NN'), (',', ','), ('the', 'DT'), ('emperor', 'NN'), ('made', 'VBD'), ('a', 'DT'), ('visit', 'NN'), ('to', 'TO'), ('the', 'DT'), ('prison', 'NN')]\n"
     ]
    }
   ],
   "source": [
    "print(token_tags)"
   ]
  },
  {
   "cell_type": "markdown",
   "metadata": {},
   "source": [
    "Stemming :\n",
    "It's a operation which removes the suffix. like removing 'ing','s','ed'.\n",
    "Doesn't care if removing the suffix from the word means anything or not."
   ]
  },
  {
   "cell_type": "code",
   "execution_count": 22,
   "metadata": {},
   "outputs": [],
   "source": [
    "from nltk.stem import PorterStemmer"
   ]
  },
  {
   "cell_type": "code",
   "execution_count": 32,
   "metadata": {},
   "outputs": [],
   "source": [
    "words= [\"played\", \"playing\", \"play\", \"plays\",'player','singing'] #'player'"
   ]
  },
  {
   "cell_type": "code",
   "execution_count": 33,
   "metadata": {},
   "outputs": [],
   "source": [
    "ps =PorterStemmer()"
   ]
  },
  {
   "cell_type": "code",
   "execution_count": 35,
   "metadata": {},
   "outputs": [
    {
     "name": "stdout",
     "output_type": "stream",
     "text": [
      "play\n",
      "play\n",
      "play\n",
      "play\n",
      "player\n",
      "sing\n"
     ]
    }
   ],
   "source": [
    "for w in words:\n",
    "    normword=ps.stem(w)\n",
    "    print(normword)"
   ]
  },
  {
   "cell_type": "code",
   "execution_count": 36,
   "metadata": {},
   "outputs": [],
   "source": [
    "sample = '''coding is process of writing code in one of the progarmming lanugauge.\n",
    " often we call this code as computer program. the coded programm is written in high level lanugage like english. studies studying cries cry '''"
   ]
  },
  {
   "cell_type": "code",
   "execution_count": 37,
   "metadata": {},
   "outputs": [
    {
     "data": {
      "text/plain": [
       "'coding is process of writing code in one of the progarmming lanugauge.\\n often we call this code as computer program. the coded programm is written in high level lanugage like english. studies studying cries cry '"
      ]
     },
     "execution_count": 37,
     "metadata": {},
     "output_type": "execute_result"
    }
   ],
   "source": [
    "sample"
   ]
  },
  {
   "cell_type": "code",
   "execution_count": 38,
   "metadata": {},
   "outputs": [],
   "source": [
    "words = word_tokenize(sample)"
   ]
  },
  {
   "cell_type": "code",
   "execution_count": 39,
   "metadata": {},
   "outputs": [
    {
     "data": {
      "text/plain": [
       "['coding',\n",
       " 'is',\n",
       " 'process',\n",
       " 'of',\n",
       " 'writing',\n",
       " 'code',\n",
       " 'in',\n",
       " 'one',\n",
       " 'of',\n",
       " 'the',\n",
       " 'progarmming',\n",
       " 'lanugauge',\n",
       " '.',\n",
       " 'often',\n",
       " 'we',\n",
       " 'call',\n",
       " 'this',\n",
       " 'code',\n",
       " 'as',\n",
       " 'computer',\n",
       " 'program',\n",
       " '.',\n",
       " 'the',\n",
       " 'coded',\n",
       " 'programm',\n",
       " 'is',\n",
       " 'written',\n",
       " 'in',\n",
       " 'high',\n",
       " 'level',\n",
       " 'lanugage',\n",
       " 'like',\n",
       " 'english',\n",
       " '.',\n",
       " 'studies',\n",
       " 'studying',\n",
       " 'cries',\n",
       " 'cry']"
      ]
     },
     "execution_count": 39,
     "metadata": {},
     "output_type": "execute_result"
    }
   ],
   "source": [
    "words"
   ]
  },
  {
   "cell_type": "code",
   "execution_count": 40,
   "metadata": {},
   "outputs": [],
   "source": [
    "norm_sent = []\n",
    "\n",
    "for w in words:\n",
    "    normword=ps.stem(w)\n",
    "    norm_sent.append(normword)"
   ]
  },
  {
   "cell_type": "code",
   "execution_count": 43,
   "metadata": {},
   "outputs": [],
   "source": [
    "norm_sent = ' '.join(norm_sent)"
   ]
  },
  {
   "cell_type": "code",
   "execution_count": 44,
   "metadata": {},
   "outputs": [
    {
     "data": {
      "text/plain": [
       "'c o d e   i s   p r o c e s s   o f   w r i t e   c o d e   i n   o n e   o f   t h e   p r o g a r m   l a n u g a u g   .   o f t e n   w e   c a l l   t h i   c o d e   a s   c o m p u t   p r o g r a m   .   t h e   c o d e   p r o g r a m m   i s   w r i t t e n   i n   h i g h   l e v e l   l a n u g a g   l i k e   e n g l i s h   .   s t u d i   s t u d i   c r i   c r i'"
      ]
     },
     "execution_count": 44,
     "metadata": {},
     "output_type": "execute_result"
    }
   ],
   "source": [
    "norm_sent"
   ]
  },
  {
   "cell_type": "markdown",
   "metadata": {},
   "source": [
    "Lemmatization:\n",
    "The meaning of the word is considered \n",
    "morphological analysis of words, meaningful removal of the words\n",
    "it's trained on wordnet "
   ]
  },
  {
   "cell_type": "code",
   "execution_count": 45,
   "metadata": {},
   "outputs": [],
   "source": [
    "import nltk\n",
    "WordNetLemmatizer = nltk.stem.WordNetLemmatizer() #2 way"
   ]
  },
  {
   "cell_type": "code",
   "execution_count": 46,
   "metadata": {},
   "outputs": [],
   "source": [
    "from nltk.stem import \tWordNetLemmatizer\n",
    "WordNetLemmatizer = WordNetLemmatizer()"
   ]
  },
  {
   "cell_type": "code",
   "execution_count": 47,
   "metadata": {},
   "outputs": [],
   "source": [
    "sample_text = 'Machine learning learns man or mens bicycle or bicycles learned also involves totally new kind of learning experience.the studies of complex mathmatics optimaztion technique for finding model paramteres'"
   ]
  },
  {
   "cell_type": "code",
   "execution_count": 48,
   "metadata": {},
   "outputs": [],
   "source": [
    "words = word_tokenize(sample_text)"
   ]
  },
  {
   "cell_type": "code",
   "execution_count": 49,
   "metadata": {},
   "outputs": [],
   "source": [
    "norm_sent = []\n",
    "\n",
    "for w in words:\n",
    "    normword=WordNetLemmatizer.lemmatize(w)\n",
    "    norm_sent.append(normword)"
   ]
  },
  {
   "cell_type": "code",
   "execution_count": 50,
   "metadata": {},
   "outputs": [],
   "source": [
    "norm_sent = ' '.join(norm_sent)"
   ]
  },
  {
   "cell_type": "code",
   "execution_count": 51,
   "metadata": {},
   "outputs": [
    {
     "data": {
      "text/plain": [
       "'Machine learning learns man or men bicycle or bicycle learned also involves totally new kind of learning experience.the study of complex mathmatics optimaztion technique for finding model paramteres'"
      ]
     },
     "execution_count": 51,
     "metadata": {},
     "output_type": "execute_result"
    }
   ],
   "source": [
    "norm_sent"
   ]
  },
  {
   "cell_type": "code",
   "execution_count": null,
   "metadata": {},
   "outputs": [],
   "source": []
  }
 ],
 "metadata": {
  "kernelspec": {
   "display_name": "Python 3",
   "language": "python",
   "name": "python3"
  },
  "language_info": {
   "codemirror_mode": {
    "name": "ipython",
    "version": 3
   },
   "file_extension": ".py",
   "mimetype": "text/x-python",
   "name": "python",
   "nbconvert_exporter": "python",
   "pygments_lexer": "ipython3",
   "version": "3.6.5"
  }
 },
 "nbformat": 4,
 "nbformat_minor": 2
}
